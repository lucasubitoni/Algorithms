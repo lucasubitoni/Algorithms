{
 "cells": [
  {
   "cell_type": "code",
   "execution_count": 51,
   "id": "24ee683c-0633-42f6-93aa-e855e9b2ebd8",
   "metadata": {},
   "outputs": [],
   "source": [
    "from numba import jit, njit, prange\n",
    "from numpy.random import choice\n",
    "from numpy import argmin\n",
    "from random import randint\n",
    "import matplotlib.pyplot as plt"
   ]
  },
  {
   "cell_type": "code",
   "execution_count": 52,
   "id": "065eaa80-db43-478b-b484-46d62ea6b578",
   "metadata": {},
   "outputs": [],
   "source": [
    "dim = (20,30)"
   ]
  },
  {
   "cell_type": "code",
   "execution_count": 59,
   "id": "04706def-357f-411b-a8fa-5f1ad3386dc6",
   "metadata": {},
   "outputs": [
    {
     "data": {
      "image/png": "[encoded data removed]",
      "text/plain": [
       "<Figure size 576x576 with 1 Axes>"
      ]
     },
     "metadata": {
      "needs_background": "light"
     },
     "output_type": "display_data"
    }
   ],
   "source": [
    "#DISTRIBUZIONE NON UNIFORME\n",
    "whiteProbability = 0.60\n",
    "\n",
    "color = [0, 1]\n",
    "data = [choice(color, dim[0], p=[whiteProbability, 1-whiteProbability]) for j in range(dim[1])]\n",
    "\n",
    "plt.figure(figsize=(8,8))\n",
    "plt.imshow(data, cmap=\"Greys\")\n",
    "plt.show()"
   ]
  },
  {
   "cell_type": "code",
   "execution_count": 60,
   "id": "ee6958f3-4594-4e8f-b4bc-122281601113",
   "metadata": {},
   "outputs": [],
   "source": [
    "def isNeighbour(point1, point2):\n",
    "    \n",
    "    \"\"\"\n",
    "    This function checks if the points are neighbours (cross pattern)\n",
    "    \"\"\"\n",
    "    \n",
    "    if abs(point1[0] - point2[0]) + abs(point1[1] - point2[1]) == 1:\n",
    "        return True\n",
    "    else:\n",
    "        return False"
   ]
  },
  {
   "cell_type": "code",
   "execution_count": 61,
   "id": "b0f1eff8-ad3f-44ad-8f06-e6478294a486",
   "metadata": {},
   "outputs": [
    {
     "name": "stdout",
     "output_type": "stream",
     "text": [
      "Computing connected region...\n",
      "Positions found:\n",
      "85\n",
      "CPU times: user 40.1 ms, sys: 5.01 ms, total: 45.2 ms\n",
      "Wall time: 42.4 ms\n"
     ]
    }
   ],
   "source": [
    "%%time\n",
    "\n",
    "start = (0,0) #Starting Position\n",
    "\n",
    "queue = list() #List which will contain the possibile pixel values which are connected to the starting position\n",
    "queue.append(start) #Initialize the queue with the starting element I chose\n",
    "\n",
    "print(\"Computing connected region...\\nPositions found:\")\n",
    "i = 0\n",
    "for currentPosition in queue:\n",
    "    \n",
    "    for row in range(len(data)):\n",
    "        for column in range(len(data[row])):\n",
    "\n",
    "            point = (row, column)\n",
    "\n",
    "            #I check if the point is a neighbour of the current position, it is not already been put in the list and it has the same value (1 or 0)\n",
    "            if isNeighbour(point, currentPosition) and (point not in queue) and (data[row][column] == data[currentPosition[0]][currentPosition[1]]):\n",
    "                i+=1\n",
    "                print(i, end=\"\\r\")\n",
    "                queue.append(point)\n",
    "                \n",
    "print(i)"
   ]
  },
  {
   "cell_type": "code",
   "execution_count": 62,
   "id": "a62c97bc-3170-4635-973e-7dcd8e252ff9",
   "metadata": {
    "tags": []
   },
   "outputs": [
    {
     "data": {
      "image/png": "[encoded data removed]",
      "text/plain": [
       "<Figure size 720x720 with 1 Axes>"
      ]
     },
     "metadata": {
      "needs_background": "light"
     },
     "output_type": "display_data"
    }
   ],
   "source": [
    "plt.figure(figsize=(10,10))\n",
    "plt.imshow(data, cmap=\"Greys\")\n",
    "for element in queue:\n",
    "    plt.scatter(element[1], element[0], color=\"red\", marker=\"s\")\n",
    "plt.show()"
   ]
  },
  {
   "cell_type": "code",
   "execution_count": 63,
   "id": "c7718ecf-e99d-4df9-be9e-86de42d22ed2",
   "metadata": {},
   "outputs": [],
   "source": [
    "def findAllPaths(graph, start, end, path=[]):\n",
    "    \n",
    "        #I concatenate the various paths I find\n",
    "        path = path + [start] \n",
    "        \n",
    "        #If start and end coincide, then I already have the path\n",
    "        if start == end:\n",
    "            return [path]\n",
    "        \n",
    "        #Otherwise I have to compute it\n",
    "        paths = []\n",
    "        for node in graph[start]:\n",
    "            if node not in path:\n",
    "                newPaths = findAllPaths(graph, node, end, path)\n",
    "                for newPath in newPaths:\n",
    "                    paths.append(newPath)\n",
    "        return paths"
   ]
  },
  {
   "cell_type": "code",
   "execution_count": 64,
   "id": "e1ec57a0-d8b0-4394-9cdd-d35fb0a3f925",
   "metadata": {},
   "outputs": [],
   "source": [
    "def makeGraph(queue):\n",
    "    graph = dict()\n",
    "    i = 0\n",
    "    for point1 in queue:\n",
    "        i+=1\n",
    "        print(int(i/len(queue)*100), end=\" \\r\")\n",
    "        neighbours = list()\n",
    "        for point2 in queue:\n",
    "            if isNeighbour(point1, point2):\n",
    "                neighbours.append(point2)\n",
    "        graph[point1] = neighbours \n",
    "        \n",
    "    return graph"
   ]
  },
  {
   "cell_type": "code",
   "execution_count": 67,
   "id": "af85bf55-8175-4584-b8bd-ee115036f818",
   "metadata": {},
   "outputs": [
    {
     "name": "stdout",
     "output_type": "stream",
     "text": [
      "Making the graph:\n",
      "Finding all connected paths:\n",
      "Selecting the best path:\n",
      "START:  (0, 0)\n",
      "END:  (10, 8)\n",
      "BEST PATH:  [(0, 0), (1, 0), (2, 0), (3, 0), (3, 1), (3, 2), (3, 3), (3, 4), (4, 4), (5, 4), (6, 4), (6, 5), (7, 5), (8, 5), (9, 5), (10, 5), (10, 6), (10, 7), (10, 8)]\n"
     ]
    }
   ],
   "source": [
    "#I want to go from start (defined above) to end (randomly selected from the queue list) as fast as possible\n",
    "#As fast as possible means that I want the smallest possible list connecting those points together\n",
    "#I thus need to make a graph of connected points, like a tree, and not just a single list of all connected points as I did before\n",
    "\n",
    "#I choose a random ending point in the selected area\n",
    "end = queue[randint(1,len(queue))] \n",
    "\n",
    "\n",
    "# I make the graph\n",
    "print(\"Making the graph...\")\n",
    "graph = makeGraph(queue)\n",
    "\n",
    "    \n",
    "#I find all the connected paths\n",
    "print(\"Finding all connected paths...\")\n",
    "paths = findAllPaths(graph, start=start, end=end)\n",
    "\n",
    "\n",
    "#I choose the best path \n",
    "print(\"Selecting the best path...\")\n",
    "lenghtOfPaths = list()\n",
    "i = 0\n",
    "for element in paths:\n",
    "    i+=1\n",
    "    print(int(i/len(paths)*100), end=\" \\r\")\n",
    "    lenghtOfPaths.append(len(element))   \n",
    "bestPath = paths[argmin(lenghtOfPaths)]\n",
    "\n",
    "\n",
    "print(\"START: \", start)\n",
    "print(\"END: \", end)\n",
    "print(\"BEST PATH: \", bestPath)"
   ]
  },
  {
   "cell_type": "code",
   "execution_count": 85,
   "id": "e3147c3f-8466-4972-a966-846f5db96f0d",
   "metadata": {},
   "outputs": [
    {
     "data": {
      "image/png": "[encoded data removed]",
      "text/plain": [
       "<Figure size 720x720 with 1 Axes>"
      ]
     },
     "metadata": {
      "needs_background": "light"
     },
     "output_type": "display_data"
    }
   ],
   "source": [
    "plt.figure(figsize=(10,10))\n",
    "plt.imshow(data, cmap=\"Greys\")\n",
    "\n",
    "\n",
    "for element in queue:\n",
    "    plt.scatter(element[1], element[0], color=\"red\", marker=\"o\", alpha=0.2)  \n",
    "    \n",
    "for element in bestPath:\n",
    "    plt.scatter(element[1], element[0], color=\"green\", marker=\"o\")\n",
    "\n",
    "    \n",
    "plt.scatter(start[1], start[0], color=\"cyan\", marker=\"s\")\n",
    "plt.scatter(end[1], end[0], color=\"magenta\", marker=\"s\")\n",
    "\n",
    "\n",
    "plt.show()"
   ]
  }
 ],
 "metadata": {
  "kernelspec": {
   "display_name": "Python 3",
   "language": "python",
   "name": "python3"
  },
  "language_info": {
   "codemirror_mode": {
    "name": "ipython",
    "version": 3
   },
   "file_extension": ".py",
   "mimetype": "text/x-python",
   "name": "python",
   "nbconvert_exporter": "python",
   "pygments_lexer": "ipython3",
   "version": "3.8.8"
  }
 },
 "nbformat": 4,
 "nbformat_minor": 5
}
